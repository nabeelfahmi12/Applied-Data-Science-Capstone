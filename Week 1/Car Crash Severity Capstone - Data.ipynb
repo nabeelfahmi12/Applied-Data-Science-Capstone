{
 "cells": [
  {
   "cell_type": "markdown",
   "metadata": {
    "collapsed": true
   },
   "source": [
    "# Final Report | Capstone Project – Car Crash Severity in Seattle"
   ]
  },
  {
   "cell_type": "markdown",
   "metadata": {},
   "source": [
    "### Data\n",
    "\n",
    "Upon further research for collision data, I obtained a similar data from Seattle GeoData. The data is an open data from the Seattle government in this [link](https://data-seattlecitygis.opendata.arcgis.com/datasets/5b5c745e0f1f48e7a53acec63a0022ab_0?geometry=-124.788%2C47.371%2C-119.732%2C48.018). Data is collected from the year 2004 until present time. The data includes all types of collisions.\n",
    "\n",
    "The data consists of 40 independent variables as potential features and 221,144 collection of accidents. The dependent variable, **SEVERITYCODE**, contains numbers that correspond to different levels of severity caused by an accident from 0 to 3.\n",
    "\n",
    "Severity codes are as follows:\n",
    "    * 3: Fatality — High Probability\n",
    "    * 2b: Serious Injury — Mild Probability  \n",
    "    * 2: Injury — Low Probability\n",
    "    * 1: Property Damage — Very Low Probability\n",
    "    * 0: Unknown — Little to No Probability\n",
    "\n",
    "Data needs to be preprocessed, such as removal/fill in null values and encoding of features."
   ]
  },
  {
   "attachments": {},
   "cell_type": "markdown",
   "metadata": {},
   "source": [
    "![Screenshot%20from%202020-09-03%2014-15-14.png](attachment:./img/Screenshot%20from%202020-09-03%2014-15-14.png)"
   ]
  },
  {
   "cell_type": "markdown",
   "metadata": {},
   "source": [
    "Labels are uneven, hence it k-cross validation and F1 measure are used."
   ]
  },
  {
   "attachments": {},
   "cell_type": "markdown",
   "metadata": {},
   "source": [
    "![Screenshot%20from%202020-09-03%2014-18-07.png](attachment:./img/Screenshot%20from%202020-09-03%2014-18-07.png)"
   ]
  }
 ],
 "metadata": {
  "kernelspec": {
   "display_name": "Python 3",
   "language": "python",
   "name": "python3"
  },
  "language_info": {
   "codemirror_mode": {
    "name": "ipython",
    "version": 3
   },
   "file_extension": ".py",
   "mimetype": "text/x-python",
   "name": "python",
   "nbconvert_exporter": "python",
   "pygments_lexer": "ipython3",
   "version": "3.6.9"
  }
 },
 "nbformat": 4,
 "nbformat_minor": 1
}
