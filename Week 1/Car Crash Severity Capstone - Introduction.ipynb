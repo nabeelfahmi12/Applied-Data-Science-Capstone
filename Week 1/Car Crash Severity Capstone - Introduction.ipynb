{
 "cells": [
  {
   "cell_type": "markdown",
   "metadata": {},
   "source": [
    "# Final Report | Capstone Project – Car Crash Severity in Seattle"
   ]
  },
  {
   "cell_type": "markdown",
   "metadata": {},
   "source": [
    "### Introduction\n",
    "\n",
    "With the growth of Artificial Intelligence (AI), especially in autonomous driving, building a system that learns from real life data to ensure safety and operational efficiency of transport systems is a growing interest. A trend where humans act only as supervisor of the automation system was predicted to happen within 10 years by the city governments ([Boston Consulting Group 2015](http://www3.weforum.org/docs/WEF_Press%20release.pdf)). However, although the automation of a product is a key to the next generation of our economy, the safety of fully automated vehicle is an intricate issue ([Luettel 2012](https://ieeexplore.ieee.org/document/6179503)). With high economic impact in transportation industry, safety in automated driving has become an imperative part as technology driver that applies also for other sector of application domains. \n",
    "\n",
    "As it comes with automation, the opening question will be: _How to deploy an autonomous driving systems that are safe enough to leave human out of the system?_. Safety in vehicle does not only mean it obeys the traffic laws, but there are also other factors, such as road hazards, flooding, and weather. Hence, solidifying in finding the severity of possible vehicle crashes to make computer-based automotive systems safe is the biggest challenge for current practice."
   ]
  },
  {
   "cell_type": "markdown",
   "metadata": {},
   "source": [
    "### Business Problem\n",
    "\n",
    "With the advances of autonomous driving, interests are coextending from various stakeholders. Artifical intelligence-based detection, sensing, and planning are integrated within autonomous cars. Yet the main challenge in deployment safety to ensure crash avoidance is still an open question. Therefore, to address this problem, our main goal is to **predict the severity of a car crash**.\n",
    "\n",
    "#### Below are the steps in achieving our goal:\n",
    "    1. Data Preprocessing\n",
    "    2. Features Extraction\n",
    "    3. Bulding Model\n",
    "    4. Optimization and Metrics Evaluation\n",
    "    5. Final Conclusion of Model\n",
    "\n",
    "The dataset we will be using is Seattle Car Crash data. With the consideration of imbalanced classes, F1 score is used as a metric to compare the performance of the models. K-cross validation is also used to improve the performance.\n",
    "\n",
    "The aim of this project is to observe variables that took part in fatality of car accidents, with the hope of integration in autonomous vehicle designs to be alert in certain feature combinations."
   ]
  }
 ],
 "metadata": {
  "kernelspec": {
   "display_name": "Python 3",
   "language": "python",
   "name": "python3"
  },
  "language_info": {
   "codemirror_mode": {
    "name": "ipython",
    "version": 3
   },
   "file_extension": ".py",
   "mimetype": "text/x-python",
   "name": "python",
   "nbconvert_exporter": "python",
   "pygments_lexer": "ipython3",
   "version": "3.6.9"
  }
 },
 "nbformat": 4,
 "nbformat_minor": 4
}
